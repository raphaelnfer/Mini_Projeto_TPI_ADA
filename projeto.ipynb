{
 "cells": [
  {
   "cell_type": "markdown",
   "metadata": {},
   "source": [
    "# Mini-Projeto: Simulação de Jogo de Dados | Entrega (11/08 - Sexta-feira)\n",
    "\n",
    "## Objetivo\n",
    "\n",
    "Você tem a tarefa de criar uma simulação para um jogo de dados. Essa simulação tem como objetivo reunir estatísticas para analisar a justiça do jogo, possíveis resultados e fazer previsões sobre jogos futuros.\n",
    "\n",
    "## Desafios do Projeto\n",
    "\n",
    "1. **Simulação de Dados**: Crie uma função que simule o lançamento de dois dados de seis lados (valores de 1 a 6). Esta função deve retornar a soma dos resultados dos dados.\n",
    "\n",
    "2. **Múltiplas Simulações**: Use a função do passo 1 para simular um grande número de jogos de dados (digamos, 1000 jogos). Armazene o resultado de cada jogo em um array NumPy.\n",
    "\n",
    "3. **Análise de Dados**: Agora, vamos analisar os resultados desses jogos. Calcule e imprima o seguinte:\n",
    "- A média dos resultados.\n",
    "- O lançamento máximo e mínimo.\n",
    "- O número de vezes que cada possível lançamento (2, 3, 4, 5, 6, 7, 8, 9, 10, 11 e 12) ocorreu.\n",
    "- Teste de Hipótese: Agora vamos fazer um pouco de teste de hipóteses:\n",
    "  - Supondo um jogo justo (ou seja, todos os lançamentos são igualmente prováveis), o resultado da sua simulação coincide com essa suposição? Por que sim ou por que não?\n",
    "  - O que isso significa para um jogador do jogo de dados?\n",
    "\n",
    "## Entregáveis\n",
    "\n",
    "Link de um repositório no seu GitHub, contendo:\n",
    "- Um script Python (arquivo `.py` ou `.ipynb`) com a sua solução para os três desafios apresentados.\n"
   ]
  },
  {
   "cell_type": "code",
   "execution_count": 70,
   "metadata": {},
   "outputs": [],
   "source": [
    "# Parte 1 do projeto: Simulador de lançamento de dados.\n",
    "# Simulação de Dados.\n",
    "\n",
    "import numpy as np\n",
    "\n",
    "# Simula o lançamento de dois dados de seis lados e retorna a soma.\n",
    "def simulador_lancamento_dados():\n",
    "    dado_1 = np.random.randint(1, 7)\n",
    "    dado_2 = np.random.randint(1, 7)\n",
    "    return dado_1 + dado_2"
   ]
  },
  {
   "cell_type": "code",
   "execution_count": 71,
   "metadata": {},
   "outputs": [
    {
     "data": {
      "text/plain": [
       "array([12,  6,  6, ...,  7,  7, 10])"
      ]
     },
     "execution_count": 71,
     "metadata": {},
     "output_type": "execute_result"
    }
   ],
   "source": [
    "# Parte 2 do projeto: Simulador de lançamento de dados.\n",
    "# Múltiplas Simulações.\n",
    "\n",
    "QTD_simulacoes = 10000\n",
    "resultados = np.array([simulador_lancamento_dados() for i in range(QTD_simulacoes)])\n",
    "resultados\n"
   ]
  },
  {
   "cell_type": "code",
   "execution_count": 72,
   "metadata": {},
   "outputs": [
    {
     "name": "stdout",
     "output_type": "stream",
     "text": [
      "Média dos resultados: 6.9907\n",
      "Lançamento máximo: 12\n",
      "Lançamento mínimo: 2\n",
      "Número de vezes que 2 ocorreu: 248\n",
      "Número de vezes que 3 ocorreu: 547\n",
      "Número de vezes que 4 ocorreu: 868\n",
      "Número de vezes que 5 ocorreu: 1160\n",
      "Número de vezes que 6 ocorreu: 1396\n",
      "Número de vezes que 7 ocorreu: 1609\n",
      "Número de vezes que 8 ocorreu: 1438\n",
      "Número de vezes que 9 ocorreu: 1100\n",
      "Número de vezes que 10 ocorreu: 807\n",
      "Número de vezes que 11 ocorreu: 539\n",
      "Número de vezes que 12 ocorreu: 288\n"
     ]
    }
   ],
   "source": [
    "# Parte 2 do projeto: Simulador de lançamento de dados.\n",
    "# Análise de Dados.\n",
    "\n",
    "# Média dos resultados.\n",
    "media = np.mean(resultados)\n",
    "print(\"Média dos resultados:\", media)\n",
    "\n",
    "# Lançamento máximo e mínimo.\n",
    "lancamento_MAX = np.max(resultados)\n",
    "lancamento_MIN = np.min(resultados)\n",
    "print(\"Lançamento máximo:\", lancamento_MAX)\n",
    "print(\"Lançamento mínimo:\", lancamento_MIN)\n",
    "\n",
    "# Contagem de cada possível lançamento.\n",
    "valores_unicos, contador = np.unique(resultados, return_counts=True)\n",
    "for i, j in zip(valores_unicos, contador):\n",
    "    print(f\"Número de vezes que {i} ocorreu:\", j)"
   ]
  },
  {
   "cell_type": "markdown",
   "metadata": {},
   "source": [
    "## Todos os casos possíveis:\n",
    "\n",
    "Soma 2: 1/36 (Apenas um caso: (1, 1))\n",
    "\n",
    "Soma 3: 2/36 (Dois casos: (1, 2), (2, 1))\n",
    "\n",
    "Soma 4: 3/36 (Três casos: (1, 3), (2, 2), (3, 1))\n",
    "\n",
    "Soma 5: 4/36 (Quatro casos: (1, 4), (2, 3), (3, 2), (4, 1))\n",
    "\n",
    "Soma 6: 5/36 (Cinco casos: (1, 5), (2, 4), (3, 3), (4, 2), (5, 1))\n",
    "\n",
    "Soma 7: 6/36 (Seis casos: (1, 6), (2, 5), (3, 4), (4, 3), (5, 2), (6, 1))\n",
    "\n",
    "Soma 8: 5/36 (Cinco casos: (2, 6), (3, 5), (4, 4), (5, 3), (6, 2))\n",
    "\n",
    "Soma 9: 4/36 (Quatro casos: (3, 6), (4, 5), (5, 4), (6, 3))\n",
    "\n",
    "Soma 10: 3/36 (Três casos: (4, 6), (5, 5), (6, 4))\n",
    "\n",
    "Soma 11: 2/36 (Dois casos: (5, 6), (6, 5))\n",
    "\n",
    "Soma 12: 1/36 (Apenas um caso: (6, 6))\n",
    "\n"
   ]
  },
  {
   "cell_type": "code",
   "execution_count": 73,
   "metadata": {},
   "outputs": [
    {
     "name": "stdout",
     "output_type": "stream",
     "text": [
      "A simulação coincide com as probabilidades de um jogo justo com uma tolerância de 0.01.\n"
     ]
    }
   ],
   "source": [
    "# Parte 3 do projeto: Análise de Dados.\n",
    "\n",
    "# dicionario de probabilidades. (Sei que poderia usar uma lista ou tupla, mas acho que o dicionario deixa mais claro o que cada valor representa).\n",
    "probabilidades = {\n",
    "    2: 1/36,\n",
    "    3: 2/36,\n",
    "    4: 3/36,\n",
    "    5: 4/36,\n",
    "    6: 5/36,\n",
    "    7: 6/36,\n",
    "    8: 5/36,\n",
    "    9: 4/36,\n",
    "    10: 3/36,\n",
    "    11: 2/36,\n",
    "    12: 1/36\n",
    "}\n",
    "\n",
    "# Teste de Hipótese\n",
    "justo = True\n",
    "tolerancia = 0.01\n",
    "for i, j in zip(valores_unicos, contador):\n",
    "    prob_justa = probabilidades[i]\n",
    "    prob_simulada = j / QTD_simulacoes\n",
    "    if abs(prob_simulada - prob_justa) > tolerancia:\n",
    "        justo = False\n",
    "        break\n",
    "\n",
    "if justo:\n",
    "        print(f\"A simulação coincide com as probabilidades de um jogo justo com uma tolerância de {tolerancia}.\")\n",
    "else:\n",
    "    if QTD_simulacoes > 1000:\n",
    "        print(f\"A simulação não coincide com as probabilidades de um jogo justo com uma tolerância de {tolerancia}.\")\n",
    "        print(f\"Tente aumentar a tolerância que, no momento, é {tolerancia}.\")\n",
    "    else:\n",
    "        print(f\"A simulação não coincide com as probabilidades de um jogo justo com uma tolerância de {tolerancia}.\")\n",
    "        print(f\"Porém, como a quantidade de simulações é menor que 1000, não é possível afirmar que o jogo é justo.\")\n",
    "        "
   ]
  },
  {
   "cell_type": "markdown",
   "metadata": {},
   "source": [
    "  **- Supondo um jogo justo (ou seja, todos os lançamentos são igualmente prováveis), o resultado da sua simulação coincide com essa suposição? Por que sim ou por que não?**\n",
    "  \n",
    "  R: Comparamos as frequências observadas dos resultados da simulação com as probabilidades teóricas esperadas para um jogo justo de lançamento de dois dados simultâneos, esperando algo parecido com uma distribuição normal. Ao executar a simulação e analisar os resultados, podemos determinar se a suposição de um jogo justo está sendo atendida com base na comparação das frequências observadas com as probabilidades teóricas esperadas. Com uma quantidade grande de lançamentos (algo na casa do milhares) e a tolerância de que colocamos, podemos SIM dizer que o resultado da simulação coincide coom a de um jogo justo.\n",
    "\n",
    "\n",
    "\n",
    "  **- O que isso significa para um jogador do jogo de dados?**\n",
    "  \n",
    "  R: A quantidade de lançamentos que um jogador considera \"justa\" também pode depender das suas próprias expectativas e percepções. Alguns jogadores podem se sentir confortáveis com menos lançamentos, enquanto outros podem preferir um grande número para se sentir confiantes nas probabilidades. Se o objetivo é criar uma simulação estatisticamente confiável e convincente para analisar a justiça do jogo, podemos considerar realizar um número significativo de lançamentos, como algumas dezenas ou mesmo centenas, de milhares, para obter resultados que se aproximem das probabilidades teóricas e proporcionem confiança.\n",
    "\n",
    "\n",
    "\n"
   ]
  }
 ],
 "metadata": {
  "kernelspec": {
   "display_name": "Python 3",
   "language": "python",
   "name": "python3"
  },
  "language_info": {
   "codemirror_mode": {
    "name": "ipython",
    "version": 3
   },
   "file_extension": ".py",
   "mimetype": "text/x-python",
   "name": "python",
   "nbconvert_exporter": "python",
   "pygments_lexer": "ipython3",
   "version": "3.10.4"
  },
  "orig_nbformat": 4
 },
 "nbformat": 4,
 "nbformat_minor": 2
}
