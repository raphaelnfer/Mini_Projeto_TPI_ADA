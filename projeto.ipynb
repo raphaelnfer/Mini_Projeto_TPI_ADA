{
 "cells": [
  {
   "cell_type": "markdown",
   "metadata": {},
   "source": [
    "# Mini-Projeto: Simulação de Jogo de Dados | Entrega (11/08 - Sexta-feira)\n",
    "\n",
    "## Objetivo\n",
    "\n",
    "Você tem a tarefa de criar uma simulação para um jogo de dados. Essa simulação tem como objetivo reunir estatísticas para analisar a justiça do jogo, possíveis resultados e fazer previsões sobre jogos futuros.\n",
    "\n",
    "## Desafios do Projeto\n",
    "\n",
    "1. **Simulação de Dados**: Crie uma função que simule o lançamento de dois dados de seis lados (valores de 1 a 6). Esta função deve retornar a soma dos resultados dos dados.\n",
    "\n",
    "2. **Múltiplas Simulações**: Use a função do passo 1 para simular um grande número de jogos de dados (digamos, 1000 jogos). Armazene o resultado de cada jogo em um array NumPy.\n",
    "\n",
    "3. **Análise de Dados**: Agora, vamos analisar os resultados desses jogos. Calcule e imprima o seguinte:\n",
    "- A média dos resultados.\n",
    "- O lançamento máximo e mínimo.\n",
    "- O número de vezes que cada possível lançamento (2, 3, 4, 5, 6, 7, 8, 9, 10, 11 e 12) ocorreu.\n",
    "- Teste de Hipótese: Agora vamos fazer um pouco de teste de hipóteses:\n",
    "  - Supondo um jogo justo (ou seja, todos os lançamentos são igualmente prováveis), o resultado da sua simulação coincide com essa suposição? Por que sim ou por que não?\n",
    "  - O que isso significa para um jogador do jogo de dados?\n",
    "\n",
    "## Entregáveis\n",
    "\n",
    "Link de um repositório no seu GitHub, contendo:\n",
    "- Um script Python (arquivo `.py` ou `.ipynb`) com a sua solução para os três desafios apresentados.\n"
   ]
  },
  {
   "cell_type": "code",
   "execution_count": 1,
   "metadata": {},
   "outputs": [],
   "source": [
    "# Parte 1 do projeto: Simulador de lançamento de dados.\n",
    "# Simulação de Dados.\n",
    "\n",
    "import numpy as np\n",
    "\n",
    "# Simula o lançamento de dois dados de seis lados e retorna a soma.\n",
    "def simulador_lancamento_dados():\n",
    "    dado_1 = np.random.randint(1, 7)\n",
    "    dado_2 = np.random.randint(1, 7)\n",
    "    return dado_1 + dado_2"
   ]
  },
  {
   "cell_type": "code",
   "execution_count": 2,
   "metadata": {},
   "outputs": [
    {
     "data": {
      "text/plain": [
       "array([11,  6,  7, ...,  5,  7, 10])"
      ]
     },
     "execution_count": 2,
     "metadata": {},
     "output_type": "execute_result"
    }
   ],
   "source": [
    "# Parte 2 do projeto: Simulador de lançamento de dados.\n",
    "# Múltiplas Simulações.\n",
    "\n",
    "QTD_simulacoes = 10000\n",
    "resultados = np.array([simulador_lancamento_dados() for _ in range(QTD_simulacoes)])\n",
    "resultados\n"
   ]
  },
  {
   "cell_type": "code",
   "execution_count": 3,
   "metadata": {},
   "outputs": [
    {
     "name": "stdout",
     "output_type": "stream",
     "text": [
      "Média dos resultados: 7.0206\n",
      "Lançamento máximo: 12\n",
      "Lançamento mínimo: 2\n",
      "Número de vezes que 2 ocorreu: 269\n",
      "Número de vezes que 3 ocorreu: 530\n",
      "Número de vezes que 4 ocorreu: 833\n",
      "Número de vezes que 5 ocorreu: 1118\n",
      "Número de vezes que 6 ocorreu: 1411\n",
      "Número de vezes que 7 ocorreu: 1655\n",
      "Número de vezes que 8 ocorreu: 1403\n",
      "Número de vezes que 9 ocorreu: 1082\n",
      "Número de vezes que 10 ocorreu: 856\n",
      "Número de vezes que 11 ocorreu: 533\n",
      "Número de vezes que 12 ocorreu: 310\n"
     ]
    }
   ],
   "source": [
    "# Parte 2 do projeto: Simulador de lançamento de dados.\n",
    "# Análise de Dados.\n",
    "\n",
    "# Média dos resultados.\n",
    "media = np.mean(resultados)\n",
    "print(\"Média dos resultados:\", media)\n",
    "\n",
    "# Lançamento máximo e mínimo.\n",
    "lancamento_MAX = np.max(resultados)\n",
    "lancamento_MIN = np.min(resultados)\n",
    "print(\"Lançamento máximo:\", lancamento_MAX)\n",
    "print(\"Lançamento mínimo:\", lancamento_MIN)\n",
    "\n",
    "# Contagem de cada possível lançamento.\n",
    "valores_unicos, contador = np.unique(resultados, return_counts=True)\n",
    "for i, j in zip(valores_unicos, contador):\n",
    "    print(f\"Número de vezes que {i} ocorreu:\", j)"
   ]
  }
 ],
 "metadata": {
  "kernelspec": {
   "display_name": "Python 3",
   "language": "python",
   "name": "python3"
  },
  "language_info": {
   "codemirror_mode": {
    "name": "ipython",
    "version": 3
   },
   "file_extension": ".py",
   "mimetype": "text/x-python",
   "name": "python",
   "nbconvert_exporter": "python",
   "pygments_lexer": "ipython3",
   "version": "3.10.4"
  },
  "orig_nbformat": 4
 },
 "nbformat": 4,
 "nbformat_minor": 2
}
